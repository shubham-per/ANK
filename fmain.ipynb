{
 "cells": [
  {
   "cell_type": "code",
   "execution_count": 16,
   "metadata": {},
   "outputs": [],
   "source": [
    "import os\n",
    "import torch\n",
    "import trimesh\n",
    "from torch.utils.data import Dataset, DataLoader\n",
    "import torch.nn as nn\n",
    "import torch.nn.functional as F\n",
    "import numpy as np"
   ]
  },
  {
   "cell_type": "code",
   "execution_count": 17,
   "metadata": {},
   "outputs": [],
   "source": [
    "# Define the IM-NET Decoder\n",
    "class IMNetDecoder(nn.Module):\n",
    "    def __init__(self, latent_dim=128, hidden_dim=512):\n",
    "        super(IMNetDecoder, self).__init__()\n",
    "        self.fc1 = nn.Linear(latent_dim + 3, hidden_dim)  # Input layer: latent vector + 3D points\n",
    "        self.fc2 = nn.Linear(hidden_dim, hidden_dim)      # Hidden layer\n",
    "        self.fc3 = nn.Linear(hidden_dim, hidden_dim)      # Another hidden layer\n",
    "        self.fc4 = nn.Linear(hidden_dim, 1)              # Output layer: scalar output (0 or 1)\n",
    "    \n",
    "    def forward(self, p, z):\n",
    "        x = torch.cat([p, z], dim=-1)\n",
    "        x = F.relu(self.fc1(x))\n",
    "        x = F.relu(self.fc2(x))\n",
    "        x = F.relu(self.fc3(x))\n",
    "        x = torch.sigmoid(self.fc4(x))\n",
    "        return x"
   ]
  },
  {
   "cell_type": "code",
   "execution_count": 18,
   "metadata": {},
   "outputs": [],
   "source": [
    "# Define the Encoder (3D Convolutional Network)\n",
    "class Encoder3D(nn.Module):\n",
    "    def __init__(self, input_dim=64, latent_dim=128):\n",
    "        super(Encoder3D, self).__init__()\n",
    "        self.conv1 = nn.Conv3d(1, 32, 4, stride=2, padding=1)\n",
    "        self.conv2 = nn.Conv3d(32, 64, 4, stride=2, padding=1)\n",
    "        self.conv3 = nn.Conv3d(64, 128, 4, stride=2, padding=1)\n",
    "        self.conv4 = nn.Conv3d(128, 256, 4, stride=2, padding=1)\n",
    "        self.fc = nn.Linear(256 * 4 * 4 * 4, latent_dim)\n",
    "    \n",
    "    def forward(self, x):\n",
    "        x = F.relu(self.conv1(x))\n",
    "        x = F.relu(self.conv2(x))\n",
    "        x = F.relu(self.conv3(x))\n",
    "        x = F.relu(self.conv4(x))\n",
    "        x = x.view(x.size(0), -1)  # Flatten\n",
    "        x = self.fc(x)  # Latent vector\n",
    "        return x"
   ]
  },
  {
   "cell_type": "code",
   "execution_count": 19,
   "metadata": {},
   "outputs": [],
   "source": [
    "# ShapeDataset Class to Load Data from OFF Files\n",
    "class ShapeDataset(Dataset):\n",
    "    def __init__(self, data_dir, points_per_shape=10000, resolution=32):\n",
    "        self.data_dir = data_dir\n",
    "        self.points_per_shape = points_per_shape\n",
    "        self.resolution = resolution\n",
    "        self.model_files = [os.path.join(self.data_dir, f)\n",
    "                            for f in os.listdir(data_dir) if f.endswith('.off')]\n",
    "    \n",
    "    def __len__(self):\n",
    "        return len(self.model_files)\n",
    "    \n",
    "    def __getitem__(self, idx):\n",
    "        model_file = self.model_files[idx]\n",
    "        mesh = trimesh.load(model_file)\n",
    "\n",
    "        voxel_data = mesh.voxelized(pitch=1.0 / self.resolution)\n",
    "        voxel_grid = voxel_data.dense\n",
    "\n",
    "        points = np.random.uniform(-1, 1, size=(self.points_per_shape, 3))\n",
    "        inside_outside = np.zeros(self.points_per_shape)\n",
    "\n",
    "        for i, point in enumerate(points):\n",
    "            voxel_coords = ((point + 1) * 0.5 * (self.resolution - 1)).astype(int)\n",
    "            voxel_coords = np.clip(voxel_coords, 0, self.resolution - 1)\n",
    "            inside_outside[i] = voxel_grid[voxel_coords[0], voxel_coords[1], voxel_coords[2]]\n",
    "\n",
    "        points = torch.FloatTensor(points)\n",
    "        inside_outside = torch.FloatTensor(inside_outside).unsqueeze(1)\n",
    "\n",
    "        return points, inside_outside"
   ]
  },
  {
   "cell_type": "code",
   "execution_count": 20,
   "metadata": {},
   "outputs": [],
   "source": [
    "# Paths to training and testing data directories\n",
    "train_data_dir = r'D:\\Code\\Python\\ANK\\IN NET\\sano data\\train'\n",
    "test_data_dir = r'D:\\Code\\Python\\ANK\\IN NET\\sano data\\test'"
   ]
  },
  {
   "cell_type": "code",
   "execution_count": 21,
   "metadata": {},
   "outputs": [],
   "source": [
    "# Create datasets for training and testing\n",
    "train_dataset = ShapeDataset(data_dir=train_data_dir, points_per_shape=1000, resolution=32)\n",
    "test_dataset = ShapeDataset(data_dir=test_data_dir, points_per_shape=1000, resolution=32)"
   ]
  },
  {
   "cell_type": "code",
   "execution_count": 22,
   "metadata": {},
   "outputs": [],
   "source": [
    "# Create data loaders\n",
    "train_dataloader = DataLoader(train_dataset, batch_size=16, shuffle=True)\n",
    "test_dataloader = DataLoader(test_dataset, batch_size=16, shuffle=False)"
   ]
  },
  {
   "cell_type": "code",
   "execution_count": 23,
   "metadata": {},
   "outputs": [],
   "source": [
    "# Training Loop\n",
    "def train(model, encoder, dataloader, optimizer, num_epochs=10):\n",
    "    model.train()\n",
    "    for epoch in range(num_epochs):\n",
    "        for points, inside_outside in dataloader:\n",
    "            optimizer.zero_grad()\n",
    "\n",
    "            z = encoder(points)  # Get latent vector from the encoder\n",
    "            pred = model(points, z)  # Get predictions from the decoder\n",
    "\n",
    "            loss = F.mse_loss(pred, inside_outside)  # Calculate loss\n",
    "            loss.backward()  # Backpropagate the loss\n",
    "            optimizer.step()  # Update model parameters\n",
    "\n",
    "        print(f'Epoch {epoch + 1}, Loss: {loss.item()}')"
   ]
  },
  {
   "cell_type": "code",
   "execution_count": 24,
   "metadata": {},
   "outputs": [],
   "source": [
    "# Instantiate and train the model\n",
    "latent_dim = 128\n",
    "decoder = IMNetDecoder(latent_dim=latent_dim)\n",
    "encoder = Encoder3D(latent_dim=latent_dim)\n",
    "optimizer = torch.optim.Adam(list(encoder.parameters()) + list(decoder.parameters()), lr=0.001)"
   ]
  },
  {
   "cell_type": "code",
   "execution_count": 27,
   "metadata": {},
   "outputs": [
    {
     "ename": "MemoryError",
     "evalue": "Unable to allocate 1.58 GiB for an array with shape (2, 105787392) and data type uint64",
     "output_type": "error",
     "traceback": [
      "\u001b[1;31m---------------------------------------------------------------------------\u001b[0m",
      "\u001b[1;31mMemoryError\u001b[0m                               Traceback (most recent call last)",
      "Cell \u001b[1;32mIn[27], line 2\u001b[0m\n\u001b[0;32m      1\u001b[0m \u001b[38;5;66;03m# Train the model\u001b[39;00m\n\u001b[1;32m----> 2\u001b[0m \u001b[43mtrain\u001b[49m\u001b[43m(\u001b[49m\u001b[43mdecoder\u001b[49m\u001b[43m,\u001b[49m\u001b[43m \u001b[49m\u001b[43mencoder\u001b[49m\u001b[43m,\u001b[49m\u001b[43m \u001b[49m\u001b[43mtrain_dataloader\u001b[49m\u001b[43m,\u001b[49m\u001b[43m \u001b[49m\u001b[43moptimizer\u001b[49m\u001b[43m,\u001b[49m\u001b[43m \u001b[49m\u001b[43mnum_epochs\u001b[49m\u001b[38;5;241;43m=\u001b[39;49m\u001b[38;5;241;43m5\u001b[39;49m\u001b[43m)\u001b[49m\n",
      "Cell \u001b[1;32mIn[23], line 5\u001b[0m, in \u001b[0;36mtrain\u001b[1;34m(model, encoder, dataloader, optimizer, num_epochs)\u001b[0m\n\u001b[0;32m      3\u001b[0m model\u001b[38;5;241m.\u001b[39mtrain()\n\u001b[0;32m      4\u001b[0m \u001b[38;5;28;01mfor\u001b[39;00m epoch \u001b[38;5;129;01min\u001b[39;00m \u001b[38;5;28mrange\u001b[39m(num_epochs):\n\u001b[1;32m----> 5\u001b[0m \u001b[43m    \u001b[49m\u001b[38;5;28;43;01mfor\u001b[39;49;00m\u001b[43m \u001b[49m\u001b[43mpoints\u001b[49m\u001b[43m,\u001b[49m\u001b[43m \u001b[49m\u001b[43minside_outside\u001b[49m\u001b[43m \u001b[49m\u001b[38;5;129;43;01min\u001b[39;49;00m\u001b[43m \u001b[49m\u001b[43mdataloader\u001b[49m\u001b[43m:\u001b[49m\n\u001b[0;32m      6\u001b[0m \u001b[43m        \u001b[49m\u001b[43moptimizer\u001b[49m\u001b[38;5;241;43m.\u001b[39;49m\u001b[43mzero_grad\u001b[49m\u001b[43m(\u001b[49m\u001b[43m)\u001b[49m\n\u001b[0;32m      8\u001b[0m \u001b[43m        \u001b[49m\u001b[43mz\u001b[49m\u001b[43m \u001b[49m\u001b[38;5;241;43m=\u001b[39;49m\u001b[43m \u001b[49m\u001b[43mencoder\u001b[49m\u001b[43m(\u001b[49m\u001b[43mpoints\u001b[49m\u001b[43m)\u001b[49m\u001b[43m  \u001b[49m\u001b[38;5;66;43;03m# Get latent vector from the encoder\u001b[39;49;00m\n",
      "File \u001b[1;32mc:\\Users\\shubh\\AppData\\Local\\Programs\\Python\\Python312\\Lib\\site-packages\\torch\\utils\\data\\dataloader.py:630\u001b[0m, in \u001b[0;36m_BaseDataLoaderIter.__next__\u001b[1;34m(self)\u001b[0m\n\u001b[0;32m    627\u001b[0m \u001b[38;5;28;01mif\u001b[39;00m \u001b[38;5;28mself\u001b[39m\u001b[38;5;241m.\u001b[39m_sampler_iter \u001b[38;5;129;01mis\u001b[39;00m \u001b[38;5;28;01mNone\u001b[39;00m:\n\u001b[0;32m    628\u001b[0m     \u001b[38;5;66;03m# TODO(https://github.com/pytorch/pytorch/issues/76750)\u001b[39;00m\n\u001b[0;32m    629\u001b[0m     \u001b[38;5;28mself\u001b[39m\u001b[38;5;241m.\u001b[39m_reset()  \u001b[38;5;66;03m# type: ignore[call-arg]\u001b[39;00m\n\u001b[1;32m--> 630\u001b[0m data \u001b[38;5;241m=\u001b[39m \u001b[38;5;28;43mself\u001b[39;49m\u001b[38;5;241;43m.\u001b[39;49m\u001b[43m_next_data\u001b[49m\u001b[43m(\u001b[49m\u001b[43m)\u001b[49m\n\u001b[0;32m    631\u001b[0m \u001b[38;5;28mself\u001b[39m\u001b[38;5;241m.\u001b[39m_num_yielded \u001b[38;5;241m+\u001b[39m\u001b[38;5;241m=\u001b[39m \u001b[38;5;241m1\u001b[39m\n\u001b[0;32m    632\u001b[0m \u001b[38;5;28;01mif\u001b[39;00m \u001b[38;5;28mself\u001b[39m\u001b[38;5;241m.\u001b[39m_dataset_kind \u001b[38;5;241m==\u001b[39m _DatasetKind\u001b[38;5;241m.\u001b[39mIterable \u001b[38;5;129;01mand\u001b[39;00m \\\n\u001b[0;32m    633\u001b[0m         \u001b[38;5;28mself\u001b[39m\u001b[38;5;241m.\u001b[39m_IterableDataset_len_called \u001b[38;5;129;01mis\u001b[39;00m \u001b[38;5;129;01mnot\u001b[39;00m \u001b[38;5;28;01mNone\u001b[39;00m \u001b[38;5;129;01mand\u001b[39;00m \\\n\u001b[0;32m    634\u001b[0m         \u001b[38;5;28mself\u001b[39m\u001b[38;5;241m.\u001b[39m_num_yielded \u001b[38;5;241m>\u001b[39m \u001b[38;5;28mself\u001b[39m\u001b[38;5;241m.\u001b[39m_IterableDataset_len_called:\n",
      "File \u001b[1;32mc:\\Users\\shubh\\AppData\\Local\\Programs\\Python\\Python312\\Lib\\site-packages\\torch\\utils\\data\\dataloader.py:673\u001b[0m, in \u001b[0;36m_SingleProcessDataLoaderIter._next_data\u001b[1;34m(self)\u001b[0m\n\u001b[0;32m    671\u001b[0m \u001b[38;5;28;01mdef\u001b[39;00m \u001b[38;5;21m_next_data\u001b[39m(\u001b[38;5;28mself\u001b[39m):\n\u001b[0;32m    672\u001b[0m     index \u001b[38;5;241m=\u001b[39m \u001b[38;5;28mself\u001b[39m\u001b[38;5;241m.\u001b[39m_next_index()  \u001b[38;5;66;03m# may raise StopIteration\u001b[39;00m\n\u001b[1;32m--> 673\u001b[0m     data \u001b[38;5;241m=\u001b[39m \u001b[38;5;28;43mself\u001b[39;49m\u001b[38;5;241;43m.\u001b[39;49m\u001b[43m_dataset_fetcher\u001b[49m\u001b[38;5;241;43m.\u001b[39;49m\u001b[43mfetch\u001b[49m\u001b[43m(\u001b[49m\u001b[43mindex\u001b[49m\u001b[43m)\u001b[49m  \u001b[38;5;66;03m# may raise StopIteration\u001b[39;00m\n\u001b[0;32m    674\u001b[0m     \u001b[38;5;28;01mif\u001b[39;00m \u001b[38;5;28mself\u001b[39m\u001b[38;5;241m.\u001b[39m_pin_memory:\n\u001b[0;32m    675\u001b[0m         data \u001b[38;5;241m=\u001b[39m _utils\u001b[38;5;241m.\u001b[39mpin_memory\u001b[38;5;241m.\u001b[39mpin_memory(data, \u001b[38;5;28mself\u001b[39m\u001b[38;5;241m.\u001b[39m_pin_memory_device)\n",
      "File \u001b[1;32mc:\\Users\\shubh\\AppData\\Local\\Programs\\Python\\Python312\\Lib\\site-packages\\torch\\utils\\data\\_utils\\fetch.py:52\u001b[0m, in \u001b[0;36m_MapDatasetFetcher.fetch\u001b[1;34m(self, possibly_batched_index)\u001b[0m\n\u001b[0;32m     50\u001b[0m         data \u001b[38;5;241m=\u001b[39m \u001b[38;5;28mself\u001b[39m\u001b[38;5;241m.\u001b[39mdataset\u001b[38;5;241m.\u001b[39m__getitems__(possibly_batched_index)\n\u001b[0;32m     51\u001b[0m     \u001b[38;5;28;01melse\u001b[39;00m:\n\u001b[1;32m---> 52\u001b[0m         data \u001b[38;5;241m=\u001b[39m [\u001b[38;5;28;43mself\u001b[39;49m\u001b[38;5;241;43m.\u001b[39;49m\u001b[43mdataset\u001b[49m\u001b[43m[\u001b[49m\u001b[43midx\u001b[49m\u001b[43m]\u001b[49m \u001b[38;5;28;01mfor\u001b[39;00m idx \u001b[38;5;129;01min\u001b[39;00m possibly_batched_index]\n\u001b[0;32m     53\u001b[0m \u001b[38;5;28;01melse\u001b[39;00m:\n\u001b[0;32m     54\u001b[0m     data \u001b[38;5;241m=\u001b[39m \u001b[38;5;28mself\u001b[39m\u001b[38;5;241m.\u001b[39mdataset[possibly_batched_index]\n",
      "Cell \u001b[1;32mIn[19], line 17\u001b[0m, in \u001b[0;36mShapeDataset.__getitem__\u001b[1;34m(self, idx)\u001b[0m\n\u001b[0;32m     14\u001b[0m model_file \u001b[38;5;241m=\u001b[39m \u001b[38;5;28mself\u001b[39m\u001b[38;5;241m.\u001b[39mmodel_files[idx]\n\u001b[0;32m     15\u001b[0m mesh \u001b[38;5;241m=\u001b[39m trimesh\u001b[38;5;241m.\u001b[39mload(model_file)\n\u001b[1;32m---> 17\u001b[0m voxel_data \u001b[38;5;241m=\u001b[39m \u001b[43mmesh\u001b[49m\u001b[38;5;241;43m.\u001b[39;49m\u001b[43mvoxelized\u001b[49m\u001b[43m(\u001b[49m\u001b[43mpitch\u001b[49m\u001b[38;5;241;43m=\u001b[39;49m\u001b[38;5;241;43m1.0\u001b[39;49m\u001b[43m \u001b[49m\u001b[38;5;241;43m/\u001b[39;49m\u001b[43m \u001b[49m\u001b[38;5;28;43mself\u001b[39;49m\u001b[38;5;241;43m.\u001b[39;49m\u001b[43mresolution\u001b[49m\u001b[43m)\u001b[49m\n\u001b[0;32m     18\u001b[0m voxel_grid \u001b[38;5;241m=\u001b[39m voxel_data\u001b[38;5;241m.\u001b[39mdense\n\u001b[0;32m     20\u001b[0m points \u001b[38;5;241m=\u001b[39m np\u001b[38;5;241m.\u001b[39mrandom\u001b[38;5;241m.\u001b[39muniform(\u001b[38;5;241m-\u001b[39m\u001b[38;5;241m1\u001b[39m, \u001b[38;5;241m1\u001b[39m, size\u001b[38;5;241m=\u001b[39m(\u001b[38;5;28mself\u001b[39m\u001b[38;5;241m.\u001b[39mpoints_per_shape, \u001b[38;5;241m3\u001b[39m))\n",
      "File \u001b[1;32mc:\\Users\\shubh\\AppData\\Local\\Programs\\Python\\Python312\\Lib\\site-packages\\trimesh\\base.py:2539\u001b[0m, in \u001b[0;36mTrimesh.voxelized\u001b[1;34m(self, pitch, method, **kwargs)\u001b[0m\n\u001b[0;32m   2521\u001b[0m \u001b[38;5;250m\u001b[39m\u001b[38;5;124;03m\"\"\"\u001b[39;00m\n\u001b[0;32m   2522\u001b[0m \u001b[38;5;124;03mReturn a VoxelGrid object representing the current mesh\u001b[39;00m\n\u001b[0;32m   2523\u001b[0m \u001b[38;5;124;03mdiscretized into voxels at the specified pitch\u001b[39;00m\n\u001b[1;32m   (...)\u001b[0m\n\u001b[0;32m   2535\u001b[0m \u001b[38;5;124;03m  Representing the current mesh\u001b[39;00m\n\u001b[0;32m   2536\u001b[0m \u001b[38;5;124;03m\"\"\"\u001b[39;00m\n\u001b[0;32m   2537\u001b[0m \u001b[38;5;28;01mfrom\u001b[39;00m \u001b[38;5;21;01m.\u001b[39;00m\u001b[38;5;21;01mvoxel\u001b[39;00m \u001b[38;5;28;01mimport\u001b[39;00m creation\n\u001b[1;32m-> 2539\u001b[0m \u001b[38;5;28;01mreturn\u001b[39;00m \u001b[43mcreation\u001b[49m\u001b[38;5;241;43m.\u001b[39;49m\u001b[43mvoxelize\u001b[49m\u001b[43m(\u001b[49m\u001b[43mmesh\u001b[49m\u001b[38;5;241;43m=\u001b[39;49m\u001b[38;5;28;43mself\u001b[39;49m\u001b[43m,\u001b[49m\u001b[43m \u001b[49m\u001b[43mpitch\u001b[49m\u001b[38;5;241;43m=\u001b[39;49m\u001b[43mpitch\u001b[49m\u001b[43m,\u001b[49m\u001b[43m \u001b[49m\u001b[43mmethod\u001b[49m\u001b[38;5;241;43m=\u001b[39;49m\u001b[43mmethod\u001b[49m\u001b[43m,\u001b[49m\u001b[43m \u001b[49m\u001b[38;5;241;43m*\u001b[39;49m\u001b[38;5;241;43m*\u001b[39;49m\u001b[43mkwargs\u001b[49m\u001b[43m)\u001b[49m\n",
      "File \u001b[1;32mc:\\Users\\shubh\\AppData\\Local\\Programs\\Python\\Python312\\Lib\\site-packages\\trimesh\\voxel\\creation.py:287\u001b[0m, in \u001b[0;36mvoxelize\u001b[1;34m(mesh, pitch, method, **kwargs)\u001b[0m\n\u001b[0;32m    266\u001b[0m \u001b[38;5;28;01mdef\u001b[39;00m \u001b[38;5;21mvoxelize\u001b[39m(mesh, pitch, method\u001b[38;5;241m=\u001b[39m\u001b[38;5;124m\"\u001b[39m\u001b[38;5;124msubdivide\u001b[39m\u001b[38;5;124m\"\u001b[39m, \u001b[38;5;241m*\u001b[39m\u001b[38;5;241m*\u001b[39mkwargs):\n\u001b[0;32m    267\u001b[0m \u001b[38;5;250m    \u001b[39m\u001b[38;5;124;03m\"\"\"\u001b[39;00m\n\u001b[0;32m    268\u001b[0m \u001b[38;5;124;03m    Voxelize the given mesh using the specified implementation.\u001b[39;00m\n\u001b[0;32m    269\u001b[0m \n\u001b[1;32m   (...)\u001b[0m\n\u001b[0;32m    285\u001b[0m \u001b[38;5;124;03m    A VoxelGrid instance.\u001b[39;00m\n\u001b[0;32m    286\u001b[0m \u001b[38;5;124;03m    \"\"\"\u001b[39;00m\n\u001b[1;32m--> 287\u001b[0m     \u001b[38;5;28;01mreturn\u001b[39;00m \u001b[43mvoxelizers\u001b[49m\u001b[43m(\u001b[49m\u001b[43mmethod\u001b[49m\u001b[43m,\u001b[49m\u001b[43m \u001b[49m\u001b[43mmesh\u001b[49m\u001b[38;5;241;43m=\u001b[39;49m\u001b[43mmesh\u001b[49m\u001b[43m,\u001b[49m\u001b[43m \u001b[49m\u001b[43mpitch\u001b[49m\u001b[38;5;241;43m=\u001b[39;49m\u001b[43mpitch\u001b[49m\u001b[43m,\u001b[49m\u001b[43m \u001b[49m\u001b[38;5;241;43m*\u001b[39;49m\u001b[38;5;241;43m*\u001b[39;49m\u001b[43mkwargs\u001b[49m\u001b[43m)\u001b[49m\n",
      "File \u001b[1;32mc:\\Users\\shubh\\AppData\\Local\\Programs\\Python\\Python312\\Lib\\site-packages\\trimesh\\util.py:2281\u001b[0m, in \u001b[0;36mFunctionRegistry.__call__\u001b[1;34m(self, key, *args, **kwargs)\u001b[0m\n\u001b[0;32m   2280\u001b[0m \u001b[38;5;28;01mdef\u001b[39;00m \u001b[38;5;21m__call__\u001b[39m(\u001b[38;5;28mself\u001b[39m, key, \u001b[38;5;241m*\u001b[39margs, \u001b[38;5;241m*\u001b[39m\u001b[38;5;241m*\u001b[39mkwargs):\n\u001b[1;32m-> 2281\u001b[0m     \u001b[38;5;28;01mreturn\u001b[39;00m \u001b[38;5;28;43mself\u001b[39;49m\u001b[43m[\u001b[49m\u001b[43mkey\u001b[49m\u001b[43m]\u001b[49m\u001b[43m(\u001b[49m\u001b[38;5;241;43m*\u001b[39;49m\u001b[43margs\u001b[49m\u001b[43m,\u001b[49m\u001b[43m \u001b[49m\u001b[38;5;241;43m*\u001b[39;49m\u001b[38;5;241;43m*\u001b[39;49m\u001b[43mkwargs\u001b[49m\u001b[43m)\u001b[49m\n",
      "File \u001b[1;32mc:\\Users\\shubh\\AppData\\Local\\Programs\\Python\\Python312\\Lib\\site-packages\\trimesh\\constants.py:151\u001b[0m, in \u001b[0;36mlog_time.<locals>.timed\u001b[1;34m(*args, **kwargs)\u001b[0m\n\u001b[0;32m    149\u001b[0m \u001b[38;5;28;01mdef\u001b[39;00m \u001b[38;5;21mtimed\u001b[39m(\u001b[38;5;241m*\u001b[39margs, \u001b[38;5;241m*\u001b[39m\u001b[38;5;241m*\u001b[39mkwargs):\n\u001b[0;32m    150\u001b[0m     tic \u001b[38;5;241m=\u001b[39m now()\n\u001b[1;32m--> 151\u001b[0m     result \u001b[38;5;241m=\u001b[39m \u001b[43mmethod\u001b[49m\u001b[43m(\u001b[49m\u001b[38;5;241;43m*\u001b[39;49m\u001b[43margs\u001b[49m\u001b[43m,\u001b[49m\u001b[43m \u001b[49m\u001b[38;5;241;43m*\u001b[39;49m\u001b[38;5;241;43m*\u001b[39;49m\u001b[43mkwargs\u001b[49m\u001b[43m)\u001b[49m\n\u001b[0;32m    152\u001b[0m     log\u001b[38;5;241m.\u001b[39mdebug(\u001b[38;5;124m\"\u001b[39m\u001b[38;5;132;01m%s\u001b[39;00m\u001b[38;5;124m executed in \u001b[39m\u001b[38;5;132;01m%.4f\u001b[39;00m\u001b[38;5;124m seconds.\u001b[39m\u001b[38;5;124m\"\u001b[39m, method\u001b[38;5;241m.\u001b[39m\u001b[38;5;18m__name__\u001b[39m, now() \u001b[38;5;241m-\u001b[39m tic)\n\u001b[0;32m    154\u001b[0m     \u001b[38;5;28;01mreturn\u001b[39;00m result\n",
      "File \u001b[1;32mc:\\Users\\shubh\\AppData\\Local\\Programs\\Python\\Python312\\Lib\\site-packages\\trimesh\\voxel\\creation.py:41\u001b[0m, in \u001b[0;36mvoxelize_subdivide\u001b[1;34m(mesh, pitch, max_iter, edge_factor)\u001b[0m\n\u001b[0;32m     37\u001b[0m     max_iter \u001b[38;5;241m=\u001b[39m \u001b[38;5;28mmax\u001b[39m(\u001b[38;5;28mint\u001b[39m(np\u001b[38;5;241m.\u001b[39mceil(np\u001b[38;5;241m.\u001b[39mlog2(longest_edge \u001b[38;5;241m/\u001b[39m max_edge))), \u001b[38;5;241m0\u001b[39m)\n\u001b[0;32m     39\u001b[0m \u001b[38;5;66;03m# get the same mesh sudivided so every edge is shorter\u001b[39;00m\n\u001b[0;32m     40\u001b[0m \u001b[38;5;66;03m# than a factor of our pitch\u001b[39;00m\n\u001b[1;32m---> 41\u001b[0m v, _f, _idx \u001b[38;5;241m=\u001b[39m \u001b[43mremesh\u001b[49m\u001b[38;5;241;43m.\u001b[39;49m\u001b[43msubdivide_to_size\u001b[49m\u001b[43m(\u001b[49m\n\u001b[0;32m     42\u001b[0m \u001b[43m    \u001b[49m\u001b[43mmesh\u001b[49m\u001b[38;5;241;43m.\u001b[39;49m\u001b[43mvertices\u001b[49m\u001b[43m,\u001b[49m\u001b[43m \u001b[49m\u001b[43mmesh\u001b[49m\u001b[38;5;241;43m.\u001b[39;49m\u001b[43mfaces\u001b[49m\u001b[43m,\u001b[49m\u001b[43m \u001b[49m\u001b[43mmax_edge\u001b[49m\u001b[38;5;241;43m=\u001b[39;49m\u001b[43mmax_edge\u001b[49m\u001b[43m,\u001b[49m\u001b[43m \u001b[49m\u001b[43mmax_iter\u001b[49m\u001b[38;5;241;43m=\u001b[39;49m\u001b[43mmax_iter\u001b[49m\u001b[43m,\u001b[49m\u001b[43m \u001b[49m\u001b[43mreturn_index\u001b[49m\u001b[38;5;241;43m=\u001b[39;49m\u001b[38;5;28;43;01mTrue\u001b[39;49;00m\n\u001b[0;32m     43\u001b[0m \u001b[43m\u001b[49m\u001b[43m)\u001b[49m\n\u001b[0;32m     45\u001b[0m \u001b[38;5;66;03m# convert the vertices to their voxel grid position\u001b[39;00m\n\u001b[0;32m     46\u001b[0m \u001b[38;5;66;03m# Provided edge_factor > 1 and max_iter is large enough, this is\u001b[39;00m\n\u001b[0;32m     47\u001b[0m \u001b[38;5;66;03m# sufficient to preserve 6-connectivity at the level of voxels.\u001b[39;00m\n\u001b[0;32m     48\u001b[0m hit \u001b[38;5;241m=\u001b[39m np\u001b[38;5;241m.\u001b[39mround(v \u001b[38;5;241m/\u001b[39m pitch)\u001b[38;5;241m.\u001b[39mastype(\u001b[38;5;28mint\u001b[39m)\n",
      "File \u001b[1;32mc:\\Users\\shubh\\AppData\\Local\\Programs\\Python\\Python312\\Lib\\site-packages\\trimesh\\remesh.py:193\u001b[0m, in \u001b[0;36msubdivide_to_size\u001b[1;34m(vertices, faces, max_edge, max_iter, return_index)\u001b[0m\n\u001b[0;32m    190\u001b[0m         \u001b[38;5;28;01mraise\u001b[39;00m \u001b[38;5;167;01mValueError\u001b[39;00m(\u001b[38;5;124m\"\u001b[39m\u001b[38;5;124mmax_iter exceeded!\u001b[39m\u001b[38;5;124m\"\u001b[39m)\n\u001b[0;32m    192\u001b[0m     \u001b[38;5;66;03m# run subdivision again\u001b[39;00m\n\u001b[1;32m--> 193\u001b[0m     (current_vertices, current_faces) \u001b[38;5;241m=\u001b[39m \u001b[43msubdivide\u001b[49m\u001b[43m(\u001b[49m\n\u001b[0;32m    194\u001b[0m \u001b[43m        \u001b[49m\u001b[43mcurrent_vertices\u001b[49m\u001b[43m,\u001b[49m\u001b[43m \u001b[49m\u001b[43mcurrent_faces\u001b[49m\u001b[43m[\u001b[49m\u001b[43mtoo_long\u001b[49m\u001b[43m]\u001b[49m\n\u001b[0;32m    195\u001b[0m \u001b[43m    \u001b[49m\u001b[43m)\u001b[49m\n\u001b[0;32m    197\u001b[0m \u001b[38;5;66;03m# stack sequence into nice (n, 3) arrays\u001b[39;00m\n\u001b[0;32m    198\u001b[0m final_vertices, final_faces \u001b[38;5;241m=\u001b[39m util\u001b[38;5;241m.\u001b[39mappend_faces(done_vert, done_face)\n",
      "File \u001b[1;32mc:\\Users\\shubh\\AppData\\Local\\Programs\\Python\\Python312\\Lib\\site-packages\\trimesh\\remesh.py:60\u001b[0m, in \u001b[0;36msubdivide\u001b[1;34m(vertices, faces, face_index, vertex_attributes, return_index)\u001b[0m\n\u001b[0;32m     58\u001b[0m \u001b[38;5;66;03m# find the unique edges of our faces subset\u001b[39;00m\n\u001b[0;32m     59\u001b[0m edges \u001b[38;5;241m=\u001b[39m np\u001b[38;5;241m.\u001b[39msort(faces_to_edges(faces_subset), axis\u001b[38;5;241m=\u001b[39m\u001b[38;5;241m1\u001b[39m)\n\u001b[1;32m---> 60\u001b[0m unique, inverse \u001b[38;5;241m=\u001b[39m \u001b[43mgrouping\u001b[49m\u001b[38;5;241;43m.\u001b[39;49m\u001b[43munique_rows\u001b[49m\u001b[43m(\u001b[49m\u001b[43medges\u001b[49m\u001b[43m)\u001b[49m\n\u001b[0;32m     61\u001b[0m \u001b[38;5;66;03m# then only produce one midpoint per unique edge\u001b[39;00m\n\u001b[0;32m     62\u001b[0m mid \u001b[38;5;241m=\u001b[39m vertices[edges[unique]]\u001b[38;5;241m.\u001b[39mmean(axis\u001b[38;5;241m=\u001b[39m\u001b[38;5;241m1\u001b[39m)\n",
      "File \u001b[1;32mc:\\Users\\shubh\\AppData\\Local\\Programs\\Python\\Python312\\Lib\\site-packages\\trimesh\\grouping.py:480\u001b[0m, in \u001b[0;36munique_rows\u001b[1;34m(data, digits, keep_order)\u001b[0m\n\u001b[0;32m    459\u001b[0m \u001b[38;5;250m\u001b[39m\u001b[38;5;124;03m\"\"\"\u001b[39;00m\n\u001b[0;32m    460\u001b[0m \u001b[38;5;124;03mReturns indices of unique rows. It will return the\u001b[39;00m\n\u001b[0;32m    461\u001b[0m \u001b[38;5;124;03mfirst occurrence of a row that is duplicated:\u001b[39;00m\n\u001b[1;32m   (...)\u001b[0m\n\u001b[0;32m    477\u001b[0m \u001b[38;5;124;03m  Example: data[unique][inverse] == data\u001b[39;00m\n\u001b[0;32m    478\u001b[0m \u001b[38;5;124;03m\"\"\"\u001b[39;00m\n\u001b[0;32m    479\u001b[0m \u001b[38;5;66;03m# get rows hashable so we can run unique function on it\u001b[39;00m\n\u001b[1;32m--> 480\u001b[0m rows \u001b[38;5;241m=\u001b[39m \u001b[43mhashable_rows\u001b[49m\u001b[43m(\u001b[49m\u001b[43mdata\u001b[49m\u001b[43m,\u001b[49m\u001b[43m \u001b[49m\u001b[43mdigits\u001b[49m\u001b[38;5;241;43m=\u001b[39;49m\u001b[43mdigits\u001b[49m\u001b[43m)\u001b[49m\n\u001b[0;32m    482\u001b[0m \u001b[38;5;66;03m# we are throwing away the first value which is the\u001b[39;00m\n\u001b[0;32m    483\u001b[0m \u001b[38;5;66;03m# garbage row-hash and only returning index and inverse\u001b[39;00m\n\u001b[0;32m    484\u001b[0m \u001b[38;5;28;01mif\u001b[39;00m keep_order:\n\u001b[0;32m    485\u001b[0m     \u001b[38;5;66;03m# keeps order of original occurrence\u001b[39;00m\n",
      "File \u001b[1;32mc:\\Users\\shubh\\AppData\\Local\\Programs\\Python\\Python312\\Lib\\site-packages\\trimesh\\grouping.py:219\u001b[0m, in \u001b[0;36mhashable_rows\u001b[1;34m(data, digits, allow_int)\u001b[0m\n\u001b[0;32m    216\u001b[0m hashable \u001b[38;5;241m=\u001b[39m np\u001b[38;5;241m.\u001b[39mzeros(\u001b[38;5;28mlen\u001b[39m(as_int), dtype\u001b[38;5;241m=\u001b[39mnp\u001b[38;5;241m.\u001b[39muint64)\n\u001b[0;32m    217\u001b[0m \u001b[38;5;66;03m# offset to the middle of the unsigned integer range\u001b[39;00m\n\u001b[0;32m    218\u001b[0m \u001b[38;5;66;03m# this array should contain only positive values\u001b[39;00m\n\u001b[1;32m--> 219\u001b[0m bitbang \u001b[38;5;241m=\u001b[39m \u001b[43m(\u001b[49m\u001b[43mas_int\u001b[49m\u001b[38;5;241;43m.\u001b[39;49m\u001b[43mT\u001b[49m\u001b[43m \u001b[49m\u001b[38;5;241;43m+\u001b[39;49m\u001b[43m \u001b[49m\u001b[43m(\u001b[49m\u001b[43mthreshold\u001b[49m\u001b[43m \u001b[49m\u001b[38;5;241;43m+\u001b[39;49m\u001b[43m \u001b[49m\u001b[38;5;241;43m1\u001b[39;49m\u001b[43m)\u001b[49m\u001b[43m)\u001b[49m\u001b[38;5;241;43m.\u001b[39;49m\u001b[43mastype\u001b[49m\u001b[43m(\u001b[49m\u001b[43mnp\u001b[49m\u001b[38;5;241;43m.\u001b[39;49m\u001b[43muint64\u001b[49m\u001b[43m)\u001b[49m\n\u001b[0;32m    220\u001b[0m \u001b[38;5;66;03m# loop through each column and bitwise xor to combine\u001b[39;00m\n\u001b[0;32m    221\u001b[0m \u001b[38;5;66;03m# make sure as_int is int64 otherwise bit offset won't work\u001b[39;00m\n\u001b[0;32m    222\u001b[0m \u001b[38;5;28;01mfor\u001b[39;00m offset, column \u001b[38;5;129;01min\u001b[39;00m \u001b[38;5;28menumerate\u001b[39m(bitbang):\n\u001b[0;32m    223\u001b[0m     \u001b[38;5;66;03m# will modify hashable in place\u001b[39;00m\n",
      "\u001b[1;31mMemoryError\u001b[0m: Unable to allocate 1.58 GiB for an array with shape (2, 105787392) and data type uint64"
     ]
    }
   ],
   "source": [
    "\n",
    "# Train the model\n",
    "train(decoder, encoder, train_dataloader, optimizer, num_epochs=5)"
   ]
  },
  {
   "cell_type": "code",
   "execution_count": null,
   "metadata": {},
   "outputs": [],
   "source": []
  }
 ],
 "metadata": {
  "kernelspec": {
   "display_name": "Python 3",
   "language": "python",
   "name": "python3"
  },
  "language_info": {
   "codemirror_mode": {
    "name": "ipython",
    "version": 3
   },
   "file_extension": ".py",
   "mimetype": "text/x-python",
   "name": "python",
   "nbconvert_exporter": "python",
   "pygments_lexer": "ipython3",
   "version": "3.12.6"
  }
 },
 "nbformat": 4,
 "nbformat_minor": 2
}
